{
 "cells": [
  {
   "cell_type": "code",
   "execution_count": 81,
   "id": "8000d548-d990-4fb4-806b-79e461174297",
   "metadata": {},
   "outputs": [],
   "source": [
    "import random"
   ]
  },
  {
   "cell_type": "code",
   "execution_count": 82,
   "id": "7a049b94-5ba0-49e1-a5cb-c0fd21c5690b",
   "metadata": {},
   "outputs": [],
   "source": [
    "def getUserTip(anzahl):\n",
    "    tipListe = []\n",
    "    for i in range(anzahl):\n",
    "        tipListe.append(int(input(\"Gib mir eine Zahl: \")))\n",
    "    return tipListe"
   ]
  },
  {
   "cell_type": "code",
   "execution_count": 85,
   "id": "3e7d0a09-1791-438e-a01d-5487659469ce",
   "metadata": {},
   "outputs": [],
   "source": [
    "def getLottozahlenListe(anzahlDerKugeln, startWert, endWert):\n",
    "    lottozahlen_alle = []\n",
    "    lottozahlen_alle.extend(range(startWert, endWert))\n",
    "    lottozahlen_gewinner = random.sample(lottozahlen_alle, anzahlDerKugeln)\n",
    "    lottozahlen_gewinner.sort()\n",
    "    return lottozahlen_gewinner"
   ]
  },
  {
   "cell_type": "code",
   "execution_count": 84,
   "id": "d2997d30-d542-4cfe-97a0-212f83b2a572",
   "metadata": {},
   "outputs": [],
   "source": [
    "def auswertung(tip, lotto):\n",
    "    treffer = 0\n",
    "    for i in tip:\n",
    "        if i in lotto:\n",
    "            treffer += 1\n",
    "    return treffer"
   ]
  },
  {
   "cell_type": "code",
   "execution_count": 85,
   "id": "a9745c53",
   "metadata": {},
   "outputs": [],
   "source": [
    "def getLottozahlenListe(anzahlDerKugeln, startWert, endWert):\n",
    "    lottozahlen_alle = []\n",
    "    lottozahlen_alle.extend(range(startWert, endWert))\n",
    "    lottozahlen_gewinner = random.sample(lottozahlen_alle, anzahlDerKugeln)\n",
    "    lottozahlen_gewinner.sort()\n",
    "    return lottozahlen_gewinner"
   ]
  },
  {
   "cell_type": "code",
   "execution_count": 90,
   "id": "00eae9bc-6fba-4cd7-a5d7-dd6301e391b8",
   "metadata": {},
   "outputs": [],
   "source": [
    "def main():\n",
    "    meineTipListe = getUserTip(6)\n",
    "    lottozahlen = getRandomLottoList(1, 50, 6)\n",
    "    meineTreffer = auswertung(getUserTip(6), getRandomLottoList(1, 50, 6))\n",
    "    print(meineTreffer, \"Treffer\")"
   ]
  },
  {
   "cell_type": "code",
   "execution_count": null,
   "id": "21c1a66a-820b-4a4c-831b-e53abaffca9f",
   "metadata": {},
   "outputs": [],
   "source": []
  },
  {
   "cell_type": "code",
   "execution_count": 87,
   "id": "c90cdd97-e9e4-45e4-8dc7-4774d3c0510f",
   "metadata": {},
   "outputs": [
    {
     "name": "stdin",
     "output_type": "stream",
     "text": [
      "Gib mir eine Zahl:  1\n",
      "Gib mir eine Zahl:  2\n",
      "Gib mir eine Zahl:  3\n",
      "Gib mir eine Zahl:  4\n",
      "Gib mir eine Zahl:  5\n",
      "Gib mir eine Zahl:  6\n"
     ]
    },
    {
     "name": "stdout",
     "output_type": "stream",
     "text": [
      "1 Treffer\n"
     ]
    }
   ],
   "source": [
    "main()"
   ]
  },
  {
   "cell_type": "code",
   "execution_count": 66,
   "id": "9536ed2c-ce55-4c19-8cf0-a4f69012dee7",
   "metadata": {},
   "outputs": [],
   "source": [
    "def getLottozahlenListe2():\n",
    "    meineZufallsListe = []\n",
    "    for i in range(6):\n",
    "        zufallszahl = random.randint(1,10)\n",
    "        if zufallszahl not in meineZufallsListe:\n",
    "            meineZufallsListe.append(zufallszahl)\n",
    "    return meineZufallsListe"
   ]
  },
  {
   "cell_type": "code",
   "execution_count": 67,
   "id": "a1e7e0b8-b636-47f6-b9c4-cdc69f92b8bc",
   "metadata": {},
   "outputs": [
    {
     "name": "stdout",
     "output_type": "stream",
     "text": [
      "[1, 2, 7, 5]\n"
     ]
    }
   ],
   "source": [
    "print(getLottozahlenListe2())"
   ]
  },
  {
   "cell_type": "markdown",
   "id": "9773876b-5957-454e-a036-c87e1cb0b1fb",
   "metadata": {},
   "source": [
    "## INPUT"
   ]
  },
  {
   "cell_type": "code",
   "execution_count": null,
   "id": "8f15c670-523e-40aa-a8a4-bf794c969ecb",
   "metadata": {},
   "outputs": [],
   "source": []
  },
  {
   "cell_type": "code",
   "execution_count": null,
   "id": "5bc13a2b-adc8-42ea-a75b-b22fadfeabed",
   "metadata": {},
   "outputs": [],
   "source": []
  },
  {
   "cell_type": "code",
   "execution_count": 48,
   "id": "15a3e029-e4e8-41b4-a0c1-7d009c1aeef0",
   "metadata": {},
   "outputs": [
    {
     "name": "stdin",
     "output_type": "stream",
     "text": [
      "Gib mir einen Namen:  123\n"
     ]
    }
   ],
   "source": [
    "x = int(input(\"Gib mir einen Namen: \"))"
   ]
  },
  {
   "cell_type": "code",
   "execution_count": 49,
   "id": "c079f702-d0c5-4829-bab6-cd3fc245767b",
   "metadata": {},
   "outputs": [
    {
     "data": {
      "text/plain": [
       "123"
      ]
     },
     "execution_count": 49,
     "metadata": {},
     "output_type": "execute_result"
    }
   ],
   "source": [
    "x"
   ]
  },
  {
   "cell_type": "code",
   "execution_count": 50,
   "id": "c88a1531-57c6-43cc-a263-dd946024b0ac",
   "metadata": {},
   "outputs": [
    {
     "data": {
      "text/plain": [
       "int"
      ]
     },
     "execution_count": 50,
     "metadata": {},
     "output_type": "execute_result"
    }
   ],
   "source": [
    "type(x)"
   ]
  },
  {
   "cell_type": "code",
   "execution_count": 79,
   "id": "987d4153-7713-481d-ad37-dfe690f8f791",
   "metadata": {},
   "outputs": [],
   "source": [
    "def get_LottozahlenListe(anzahlDerKugeln = 6, startWert =1 , endWert = 50):\n",
    "    lottozahlen_alle = []\n",
    "    lottozahlen_alle.extend(range(startWert, endWert))\n",
    "    lottozahlen_gewinner = random.sample(lottozahlen_alle, anzahlDerKugeln)\n",
    "    lottozahlen_gewinner.sort()\n",
    "    return lottozahlen_gewinner"
   ]
  },
  {
   "cell_type": "code",
   "execution_count": 80,
   "id": "3acabd8a-94d5-4159-bac6-0e3418a69092",
   "metadata": {},
   "outputs": [
    {
     "data": {
      "text/plain": [
       "[23, 24, 31, 35, 39, 45]"
      ]
     },
     "execution_count": 80,
     "metadata": {},
     "output_type": "execute_result"
    }
   ],
   "source": [
    "get_LottozahlenListe()"
   ]
  },
  {
   "cell_type": "code",
   "execution_count": null,
   "id": "348fc038-b716-4e32-a3b4-2e8f24f63c71",
   "metadata": {},
   "outputs": [],
   "source": []
  },
  {
   "cell_type": "code",
   "execution_count": 73,
   "id": "0df6c8eb-3db9-4b5a-a238-5667af0843ef",
   "metadata": {},
   "outputs": [],
   "source": [
    "templiste = [1,2,3]\n",
    "liste = []\n",
    "liste.extend(templiste)"
   ]
  },
  {
   "cell_type": "code",
   "execution_count": 74,
   "id": "f52bc82b-293d-4d0d-822f-c963d2f94445",
   "metadata": {},
   "outputs": [
    {
     "data": {
      "text/plain": [
       "[1, 2, 3]"
      ]
     },
     "execution_count": 74,
     "metadata": {},
     "output_type": "execute_result"
    }
   ],
   "source": [
    "liste"
   ]
  },
  {
   "cell_type": "code",
   "execution_count": null,
   "id": "5b8cf477-a050-4f5c-ac0c-4ad4438cc950",
   "metadata": {},
   "outputs": [],
   "source": []
  }
 ],
 "metadata": {
  "kernelspec": {
   "display_name": "Python 3 (ipykernel)",
   "language": "python",
   "name": "python3"
  },
  "language_info": {
   "codemirror_mode": {
    "name": "ipython",
    "version": 3
   },
   "file_extension": ".py",
   "mimetype": "text/x-python",
   "name": "python",
   "nbconvert_exporter": "python",
   "pygments_lexer": "ipython3",
   "version": "3.9.13"
  }
 },
 "nbformat": 4,
 "nbformat_minor": 5
}
