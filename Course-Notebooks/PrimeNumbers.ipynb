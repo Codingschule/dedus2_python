{
 "cells": [
  {
   "cell_type": "markdown",
   "id": "016d0d2c-31d4-4605-ab90-b7fbbeb8d35f",
   "metadata": {},
   "source": [
    "#### Prime Numbers\n"
   ]
  },
  {
   "cell_type": "markdown",
   "id": "b2c43543-cd2e-4548-835c-2679bc0e6d6b",
   "metadata": {},
   "source": [
    "Write a Python script to:\n",
    "\n",
    "+ Display all the prime numbers between 1 to 250.\n",
    "+ Store the results in a results.txt file."
   ]
  },
  {
   "cell_type": "code",
   "execution_count": 1,
   "id": "5172d4ad-75ed-459d-bd0e-54ebda99e443",
   "metadata": {},
   "outputs": [],
   "source": [
    "# import nessesary librarys\n",
    "import csv"
   ]
  },
  {
   "cell_type": "code",
   "execution_count": 2,
   "id": "bba822a9-12cd-4991-876c-bce2f1c28fad",
   "metadata": {},
   "outputs": [],
   "source": [
    "def getPrimeNumberArray(x = 250):\n",
    "    \n",
    "    #create empty Array\n",
    "    primeNumberArray = []\n",
    "    \n",
    "    #initialize a counter variable\n",
    "    y = 1\n",
    "    \n",
    "    # loop over increasing y as long array is < x\n",
    "    while len(primeNumberArray) < x:\n",
    "        \n",
    "        if checkIsPrimeNumber(y) is True:\n",
    "            \n",
    "            primeNumberArray.append(y)\n",
    "            \n",
    "        y += 1\n",
    "            \n",
    "    return primeNumberArray\n",
    "            "
   ]
  },
  {
   "cell_type": "code",
   "execution_count": 3,
   "id": "ccad88e5-9086-4bbd-b365-4dd0505769d4",
   "metadata": {},
   "outputs": [],
   "source": [
    "def checkIsPrimeNumber(num):\n",
    "    \n",
    "    # check num to be int and > 1\n",
    "    if num > 1 and isinstance(num, int):\n",
    "        \n",
    "       # check for factors\n",
    "        for i in range(2, num):\n",
    "            \n",
    "            if (num % i) == 0:\n",
    "                \n",
    "                return False\n",
    "            \n",
    "        return True\n",
    "       \n",
    "    # if input number is less than\n",
    "    # or equal to 1, it is not prime\n",
    "    else:\n",
    "        return False"
   ]
  },
  {
   "cell_type": "code",
   "execution_count": 4,
   "id": "d0740b4a-0cfa-49c3-98a4-bcc50fa33793",
   "metadata": {},
   "outputs": [],
   "source": [
    "def saveArrayToCsvFile(data, filename):\n",
    "\n",
    "    with open(\"primeArray.csv\", \"w\") as f:\n",
    "        \n",
    "        writer = csv.writer(f)\n",
    "        \n",
    "        for item in [data]:\n",
    "            writer.writerow(item)"
   ]
  },
  {
   "cell_type": "code",
   "execution_count": 5,
   "id": "9d3bad3d-3ba0-426d-8de9-c47705ad9c41",
   "metadata": {},
   "outputs": [],
   "source": [
    "def main():\n",
    "    \n",
    "    filename = \"primeArray.csv\"\n",
    "    \n",
    "    numberOfPrimes = 250\n",
    "    \n",
    "    data = getPrimeNumberArray(numberOfPrimes)\n",
    "    \n",
    "    saveArrayToCsvFile(data, filename)\n",
    "    \n",
    "    print(data)"
   ]
  },
  {
   "cell_type": "code",
   "execution_count": 6,
   "id": "32cc5ce7-633a-4a85-ab71-96773667abe4",
   "metadata": {},
   "outputs": [
    {
     "name": "stdout",
     "output_type": "stream",
     "text": [
      "[2, 3, 5, 7, 11, 13, 17, 19, 23, 29, 31, 37, 41, 43, 47, 53, 59, 61, 67, 71, 73, 79, 83, 89, 97, 101, 103, 107, 109, 113, 127, 131, 137, 139, 149, 151, 157, 163, 167, 173, 179, 181, 191, 193, 197, 199, 211, 223, 227, 229, 233, 239, 241, 251, 257, 263, 269, 271, 277, 281, 283, 293, 307, 311, 313, 317, 331, 337, 347, 349, 353, 359, 367, 373, 379, 383, 389, 397, 401, 409, 419, 421, 431, 433, 439, 443, 449, 457, 461, 463, 467, 479, 487, 491, 499, 503, 509, 521, 523, 541, 547, 557, 563, 569, 571, 577, 587, 593, 599, 601, 607, 613, 617, 619, 631, 641, 643, 647, 653, 659, 661, 673, 677, 683, 691, 701, 709, 719, 727, 733, 739, 743, 751, 757, 761, 769, 773, 787, 797, 809, 811, 821, 823, 827, 829, 839, 853, 857, 859, 863, 877, 881, 883, 887, 907, 911, 919, 929, 937, 941, 947, 953, 967, 971, 977, 983, 991, 997, 1009, 1013, 1019, 1021, 1031, 1033, 1039, 1049, 1051, 1061, 1063, 1069, 1087, 1091, 1093, 1097, 1103, 1109, 1117, 1123, 1129, 1151, 1153, 1163, 1171, 1181, 1187, 1193, 1201, 1213, 1217, 1223, 1229, 1231, 1237, 1249, 1259, 1277, 1279, 1283, 1289, 1291, 1297, 1301, 1303, 1307, 1319, 1321, 1327, 1361, 1367, 1373, 1381, 1399, 1409, 1423, 1427, 1429, 1433, 1439, 1447, 1451, 1453, 1459, 1471, 1481, 1483, 1487, 1489, 1493, 1499, 1511, 1523, 1531, 1543, 1549, 1553, 1559, 1567, 1571, 1579, 1583]\n"
     ]
    }
   ],
   "source": [
    "main()"
   ]
  },
  {
   "cell_type": "code",
   "execution_count": null,
   "id": "5dd8b8e1-7cec-4ce5-8c8d-36da8f2a3bdd",
   "metadata": {},
   "outputs": [],
   "source": []
  },
  {
   "cell_type": "code",
   "execution_count": null,
   "id": "71da51c6-0b4b-43b6-b3a1-0832b732b150",
   "metadata": {},
   "outputs": [],
   "source": []
  },
  {
   "cell_type": "markdown",
   "id": "20d8f2a9-2c78-4a1b-b1e3-10723340bb03",
   "metadata": {},
   "source": [
    "#### Playground\n",
    "Ab hier zum Experimentieren"
   ]
  },
  {
   "cell_type": "code",
   "execution_count": 7,
   "id": "0532587d-8d8c-477c-8f57-45363cae3a38",
   "metadata": {},
   "outputs": [
    {
     "name": "stdout",
     "output_type": "stream",
     "text": [
      "112335 is not a prime number\n",
      "3 times 37445 is 112335\n"
     ]
    }
   ],
   "source": [
    "# Program to check if a number is prime or not\n",
    "\n",
    "num = 112335\n",
    "\n",
    "# prime numbers are greater than 1\n",
    "if num > 1:\n",
    "   # check for factors\n",
    "   for i in range(2,num):\n",
    "       if (num % i) == 0:\n",
    "           print(num,\"is not a prime number\")\n",
    "           print(i,\"times\",num//i,\"is\",num)\n",
    "           break\n",
    "   else:\n",
    "       print(num,\"is a prime number\")\n",
    "       L\n",
    "# if input number is less than\n",
    "# or equal to 1, it is not prime\n",
    "else:\n",
    "   print(num,\"is not a prime number\")"
   ]
  },
  {
   "cell_type": "code",
   "execution_count": null,
   "id": "549118dd-f3e3-41a8-a7e7-26ad5d1d9f99",
   "metadata": {},
   "outputs": [],
   "source": []
  }
 ],
 "metadata": {
  "kernelspec": {
   "display_name": "Python 3 (ipykernel)",
   "language": "python",
   "name": "python3"
  },
  "language_info": {
   "codemirror_mode": {
    "name": "ipython",
    "version": 3
   },
   "file_extension": ".py",
   "mimetype": "text/x-python",
   "name": "python",
   "nbconvert_exporter": "python",
   "pygments_lexer": "ipython3",
   "version": "3.9.13"
  }
 },
 "nbformat": 4,
 "nbformat_minor": 5
}
