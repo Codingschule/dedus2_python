{
 "cells": [
  {
   "cell_type": "markdown",
   "id": "3c01b413-8021-4a41-99c5-b2d1cc7a2888",
   "metadata": {},
   "source": [
    "## Challange_1"
   ]
  },
  {
   "cell_type": "code",
   "execution_count": 3,
   "id": "ad468fe8-2ed4-4da3-9b0c-7db62ee5f90e",
   "metadata": {},
   "outputs": [],
   "source": [
    "hobbits = ['Frodo', 'Bilbo', 'Gandalf', 'Sam', 'Pippin', 'Merry']"
   ]
  },
  {
   "cell_type": "code",
   "execution_count": 4,
   "id": "65f270ac-1038-4ef4-9de6-1b210a1fa620",
   "metadata": {},
   "outputs": [],
   "source": [
    "hobbits = ['Frodo', 'Bilbo', 'Gandalf', 'Sam', 'Pippin', 'Merry']"
   ]
  },
  {
   "cell_type": "markdown",
   "id": "b9af499a-c012-4a1e-ac08-35248a92e90d",
   "metadata": {},
   "source": [
    "### Schreibe eine Funktion die alle Hobbits(Gandalf ist kein Hobbit) auf dem Bildschrim ausgibt:\n",
    "* Übergib der Funktion die Liste \"hobbits\""
   ]
  },
  {
   "cell_type": "code",
   "execution_count": 5,
   "id": "6e184dd6-e5ef-4ee1-8c72-420be9224b6d",
   "metadata": {},
   "outputs": [],
   "source": [
    "def getNoneHobbits(mylist):\n",
    "    for name in mylist:\n",
    "        if name != 'Gandalf':\n",
    "            print(name)"
   ]
  },
  {
   "cell_type": "code",
   "execution_count": 6,
   "id": "530b3d32-6bfc-4d57-ac9d-22d4051d6606",
   "metadata": {},
   "outputs": [
    {
     "name": "stdout",
     "output_type": "stream",
     "text": [
      "Frodo\n",
      "Bilbo\n",
      "Sam\n",
      "Pippin\n",
      "Merry\n"
     ]
    }
   ],
   "source": [
    "getNoneHobbits(hobbits)"
   ]
  },
  {
   "cell_type": "code",
   "execution_count": null,
   "id": "696e8206-6082-42a5-9c22-62ff5606a0a7",
   "metadata": {},
   "outputs": [],
   "source": []
  }
 ],
 "metadata": {
  "kernelspec": {
   "display_name": "Python 3 (ipykernel)",
   "language": "python",
   "name": "python3"
  },
  "language_info": {
   "codemirror_mode": {
    "name": "ipython",
    "version": 3
   },
   "file_extension": ".py",
   "mimetype": "text/x-python",
   "name": "python",
   "nbconvert_exporter": "python",
   "pygments_lexer": "ipython3",
   "version": "3.9.13"
  }
 },
 "nbformat": 4,
 "nbformat_minor": 5
}
