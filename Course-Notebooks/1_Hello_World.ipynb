{
 "cells": [
  {
   "cell_type": "markdown",
   "id": "195f43e1-3f6b-4203-b633-3ee05290e6ef",
   "metadata": {},
   "source": [
    "### Functions, Variables and Datatypes"
   ]
  },
  {
   "cell_type": "markdown",
   "id": "6f22b718-60fa-47d1-88d7-dfdc4f8e1c2d",
   "metadata": {},
   "source": [
    "#### Hello World"
   ]
  },
  {
   "cell_type": "code",
   "execution_count": 5,
   "id": "d30aa950-772d-49ca-9035-8a53cb60836b",
   "metadata": {},
   "outputs": [
    {
     "name": "stdout",
     "output_type": "stream",
     "text": [
      "hello, world\n"
     ]
    }
   ],
   "source": [
    "print (\"hello, world\")"
   ]
  },
  {
   "cell_type": "code",
   "execution_count": 13,
   "id": "1d5827bf-dc01-429f-8203-a551b1485aaf",
   "metadata": {},
   "outputs": [
    {
     "name": "stdin",
     "output_type": "stream",
     "text": [
      "What's your name? Digger\n"
     ]
    },
    {
     "name": "stdout",
     "output_type": "stream",
     "text": [
      "Hello, Digger\n"
     ]
    }
   ],
   "source": [
    "name = input(\"What's your name?\")\n",
    "print(\"Hello, \" + name)"
   ]
  },
  {
   "cell_type": "markdown",
   "id": "e465b23e-7814-45bd-a88c-3e2219f737c8",
   "metadata": {},
   "source": [
    "Eine Variable ist eine \"Virtuelle Schachtel\" in der ein Wert gespeichert wird."
   ]
  },
  {
   "cell_type": "markdown",
   "id": "d7b5f09d-0303-4c15-bd96-34a2e987111d",
   "metadata": {},
   "source": [
    "Eine Funktion ist eine kleines Programm in einem Programm das etwas tut. Es erledigt eine bestimmte Aufgabe und kann bei Bedarf auch Parameter entgegen nehmen sowie Werte zurück geben"
   ]
  },
  {
   "cell_type": "markdown",
   "id": "44199c05-2999-434b-a00b-cda0fcab4145",
   "metadata": {},
   "source": [
    "Ein Variable entspricht immer einem Datentyp\n",
    " * int (integer)\n",
    " * float (komma-zahl)\n",
    " * bool (boolscher Wert)\n",
    " * string (Zeichenkette)\n",
    " * list (Liste)\n",
    " * dict (Dictionary)"
   ]
  },
  {
   "cell_type": "code",
   "execution_count": 28,
   "id": "383c0dad-1500-4eae-bba7-3865eee8bf8e",
   "metadata": {},
   "outputs": [
    {
     "name": "stdout",
     "output_type": "stream",
     "text": [
      "23\n"
     ]
    }
   ],
   "source": [
    "# Eine Variable anlegen:\n",
    "x = 12\n",
    "schnuff = 7\n",
    "ABD_DEfgh = 4\n",
    "print(ABD_DEfgh + schnuff + x)"
   ]
  },
  {
   "cell_type": "markdown",
   "id": "2c62dfdb-eef7-4c23-8077-4e0c8a99d0a5",
   "metadata": {},
   "source": [
    "Der Typ einer Variable kann überprüft bzw. abgefragt werden:"
   ]
  },
  {
   "cell_type": "code",
   "execution_count": 4,
   "id": "26adf1a0-2111-44c0-9d43-833b5e243dfb",
   "metadata": {},
   "outputs": [
    {
     "name": "stdout",
     "output_type": "stream",
     "text": [
      "123\n",
      "<class 'int'>\n"
     ]
    }
   ],
   "source": [
    "x = 123\n",
    "\n",
    "print(x)\n",
    "print(type(x))"
   ]
  },
  {
   "cell_type": "code",
   "execution_count": 5,
   "id": "6f11f832-9bb7-4498-9030-f76725b47cb0",
   "metadata": {},
   "outputs": [
    {
     "name": "stdout",
     "output_type": "stream",
     "text": [
      "schnuff\n",
      "<class 'str'>\n"
     ]
    }
   ],
   "source": [
    "x = \"schnuff\"\n",
    "\n",
    "print(x)\n",
    "print(type(x))"
   ]
  },
  {
   "cell_type": "code",
   "execution_count": 7,
   "id": "cf45cf79-5aea-46de-a99c-e83a26db25b3",
   "metadata": {},
   "outputs": [
    {
     "name": "stdout",
     "output_type": "stream",
     "text": [
      "[1, 2, 3]\n",
      "<class 'list'>\n"
     ]
    }
   ],
   "source": [
    "x = [1,2,3]\n",
    "\n",
    "print(x)\n",
    "print(type(x))"
   ]
  },
  {
   "cell_type": "code",
   "execution_count": null,
   "id": "b5aacc54-4236-4701-b7a2-534c80053108",
   "metadata": {},
   "outputs": [],
   "source": []
  },
  {
   "cell_type": "code",
   "execution_count": 42,
   "id": "22c46716-4011-4678-9a29-621387a394e6",
   "metadata": {},
   "outputs": [
    {
     "name": "stdout",
     "output_type": "stream",
     "text": [
      "x ist ein integer-wert\n"
     ]
    }
   ],
   "source": [
    "x = 1\n",
    "if isinstance(x, int) == True:\n",
    "    print(\"x ist ein integer-wert\")\n",
    "else:\n",
    "    print(\"x ist KEIN integer-wert\")"
   ]
  },
  {
   "cell_type": "code",
   "execution_count": 47,
   "id": "b79cc7a7-a98b-4be2-8aef-833f6bf2e35e",
   "metadata": {},
   "outputs": [
    {
     "name": "stdout",
     "output_type": "stream",
     "text": [
      "Hallo\n",
      " $%& \n",
      "Welt\n"
     ]
    }
   ],
   "source": [
    "x = \"Hallo\"\n",
    "y = \"Welt\"\n",
    "print(x, y, sep=\"\\n $%& \\n\")"
   ]
  },
  {
   "cell_type": "code",
   "execution_count": 51,
   "id": "16fa3a27-82b0-4dd6-b573-8e3b1687a916",
   "metadata": {},
   "outputs": [
    {
     "name": "stdout",
     "output_type": "stream",
     "text": [
      "eins\n",
      "zwei\n",
      "drei\n"
     ]
    }
   ],
   "source": [
    "meine_liste = [\"eins\", \"zwei\", \"drei\"]\n",
    "for word in meine_liste:\n",
    "    print(word, sep = \",\")"
   ]
  },
  {
   "cell_type": "code",
   "execution_count": 8,
   "id": "fb379a4f-1e66-4492-8ae6-bf70261c6cb5",
   "metadata": {},
   "outputs": [],
   "source": [
    "# Beispiel für eine Klasse in Python\n",
    "\n",
    "class Konto(object): \n",
    "\n",
    "    def __init__(self, inhaber, kontonummer, \n",
    "                 kontostand, \n",
    "                 kontokorrent=0): \n",
    "        self.Inhaber = inhaber \n",
    "        self.Kontonummer = kontonummer \n",
    "        self.Kontostand = kontostand \n",
    "        self.Kontokorrent = kontokorrent\n",
    "\n",
    "    def ueberweisen(self, ziel, betrag):\n",
    "        if(self.Kontostand - betrag < -self.Kontokorrent):\n",
    "            # Deckung nicht genuegend\n",
    "            return False  \n",
    "        else: \n",
    "            self.Kontostand -= betrag \n",
    "            ziel.Kontostand += betrag \n",
    "            return True\n",
    " \n",
    "    def einzahlen(self, betrag): \n",
    "       self.Kontostand += betrag \n",
    " \n",
    "    def auszahlen(self, betrag): \n",
    "       self.Kontostand -= betrag \n",
    " \n",
    "    def kontostand(self): \n",
    "        return self.Kontostand"
   ]
  },
  {
   "cell_type": "code",
   "execution_count": 10,
   "id": "1e52a5a9-5032-4b1e-9946-d02ef63cd191",
   "metadata": {},
   "outputs": [],
   "source": [
    "k = Konto(\"olaf\", 1234, 100)"
   ]
  },
  {
   "cell_type": "code",
   "execution_count": 12,
   "id": "685fa948-d146-465e-a11d-56920097e825",
   "metadata": {},
   "outputs": [
    {
     "name": "stdout",
     "output_type": "stream",
     "text": [
      "1234\n",
      "100\n"
     ]
    }
   ],
   "source": [
    "print(k.Kontonummer)\n",
    "print(k.Kontostand)"
   ]
  },
  {
   "cell_type": "code",
   "execution_count": null,
   "id": "f59cd861-a6d9-42a9-b150-0dd02ed09a50",
   "metadata": {},
   "outputs": [],
   "source": [
    "print(k.)"
   ]
  }
 ],
 "metadata": {
  "kernelspec": {
   "display_name": "Python 3 (ipykernel)",
   "language": "python",
   "name": "python3"
  },
  "language_info": {
   "codemirror_mode": {
    "name": "ipython",
    "version": 3
   },
   "file_extension": ".py",
   "mimetype": "text/x-python",
   "name": "python",
   "nbconvert_exporter": "python",
   "pygments_lexer": "ipython3",
   "version": "3.9.13"
  }
 },
 "nbformat": 4,
 "nbformat_minor": 5
}
