{
 "cells": [
  {
   "cell_type": "markdown",
   "id": "43c48a70-f4c5-474b-9391-5f4544852686",
   "metadata": {},
   "source": [
    "# If Abfrage und Vergleichsoperatoren"
   ]
  },
  {
   "cell_type": "code",
   "execution_count": 1,
   "id": "dffafa48-eeb6-4e59-82cc-7c97f2958462",
   "metadata": {},
   "outputs": [
    {
     "name": "stdout",
     "output_type": "stream",
     "text": [
      "Wert ist kleiner als 5\n"
     ]
    }
   ],
   "source": [
    "wert = 3\n",
    "if wert < 5:\n",
    "    print('Wert ist kleiner als 5')"
   ]
  },
  {
   "cell_type": "code",
   "execution_count": 12,
   "id": "5d93e630-cba3-42c7-a243-858c93d40894",
   "metadata": {},
   "outputs": [
    {
     "name": "stdout",
     "output_type": "stream",
     "text": [
      "Wert ist kleiner als 5\n",
      "Ich gehöre auch noch zu der Bedingung\n",
      "Ich auch...\n",
      "...und hier geht es nach der if-Abfrage weiter\n"
     ]
    }
   ],
   "source": [
    "wert = 3\n",
    "if wert < 5:\n",
    "    print('Wert ist kleiner als 5')\n",
    "    print('Ich gehöre auch noch zu der Bedingung')\n",
    "    print('Ich auch...')\n",
    "    \n",
    "print('...und hier geht es nach der if-Abfrage weiter')"
   ]
  },
  {
   "cell_type": "markdown",
   "id": "d15cadd8-af12-446a-ab7c-7e9960f37311",
   "metadata": {},
   "source": [
    "### Vergeichsoperatoren\n",
    "\n",
    "| Operator    | Description \n",
    "| ----------- | ----------- \n",
    "| ==          | gleich      \n",
    "| !=          | ungleich    \n",
    "| <           | kleiner     \n",
    "| <=          | kleiner oder gleich    \n",
    "| >           | größer      \n",
    "| >=          | größer oder gleich    \n",
    "| %           | modulo (auf Rest prüfen) "
   ]
  },
  {
   "cell_type": "markdown",
   "id": "94a34615-04a9-44f7-a7b7-bd67dd063d10",
   "metadata": {},
   "source": [
    "## If - Else Abfrage"
   ]
  },
  {
   "cell_type": "code",
   "execution_count": 13,
   "id": "b9713355-7a30-48c8-838f-9664168379e4",
   "metadata": {},
   "outputs": [
    {
     "name": "stdout",
     "output_type": "stream",
     "text": [
      "Wert ist größer als 4\n"
     ]
    }
   ],
   "source": [
    "wert = 9\n",
    "if wert < 5:\n",
    "    print('Wert ist kleiner als 5')\n",
    "else:\n",
    "    print('Wert ist größer als 4')"
   ]
  },
  {
   "cell_type": "markdown",
   "id": "173af0ff-613a-45ab-b8d8-70233391e9ac",
   "metadata": {},
   "source": [
    "## If - Else - Elif Abfrage"
   ]
  },
  {
   "cell_type": "code",
   "execution_count": 14,
   "id": "c803834f-bc9b-4293-985f-eed09d495190",
   "metadata": {},
   "outputs": [
    {
     "name": "stdout",
     "output_type": "stream",
     "text": [
      "Wert ist größer als 5\n"
     ]
    }
   ],
   "source": [
    "wert = 9\n",
    "if wert < 5:\n",
    "    print('Wert ist kleiner als 5')\n",
    "elif wert == 5:\n",
    "    print('Wert ist exakt 5')\n",
    "else:\n",
    "    print('Wert ist größer als 5')\n",
    "    \n",
    "# Wir sind bei elif nicht auf eines begrenzt. \n",
    "# Von diesen weiteren Abfragen können beliebig viele gemacht werden. \n",
    "# Je nach Aufgabenstellung ist es sinnvoll."
   ]
  },
  {
   "cell_type": "markdown",
   "id": "99ebbb6b-5466-4eb3-82a4-422c2060d906",
   "metadata": {},
   "source": [
    "## Der Modulo Operator"
   ]
  },
  {
   "cell_type": "code",
   "execution_count": 16,
   "id": "2b2ab50e-9b29-4fbc-be45-f184c2bfae10",
   "metadata": {},
   "outputs": [
    {
     "data": {
      "text/plain": [
       "0"
      ]
     },
     "execution_count": 16,
     "metadata": {},
     "output_type": "execute_result"
    }
   ],
   "source": [
    "# 2 geteilt durch 2 ist restfrei teilbar\n",
    "\n",
    "2 % 2"
   ]
  },
  {
   "cell_type": "code",
   "execution_count": 17,
   "id": "67d8c866-d398-42f9-8c17-0e4aaf231b64",
   "metadata": {},
   "outputs": [
    {
     "data": {
      "text/plain": [
       "0"
      ]
     },
     "execution_count": 17,
     "metadata": {},
     "output_type": "execute_result"
    }
   ],
   "source": [
    "8 % 2"
   ]
  },
  {
   "cell_type": "code",
   "execution_count": 18,
   "id": "81a0016f-bba5-4f20-af9c-59a9f68bb0ef",
   "metadata": {},
   "outputs": [
    {
     "name": "stdout",
     "output_type": "stream",
     "text": [
      "0\n",
      "2\n",
      "4\n",
      "6\n",
      "8\n",
      "10\n"
     ]
    }
   ],
   "source": [
    "# Beispiel mit modulo\n",
    "for i in range(0, 12):\n",
    "    # Überprüft, ob beim Teilen durch 2 kein Rest zurück bleibt, \n",
    "    # was bedeutet, dass i eine gerade Zahl ist\n",
    "    if i % 2 == 0:\n",
    "        print(i)"
   ]
  },
  {
   "cell_type": "code",
   "execution_count": 23,
   "id": "16e9e0e7-e666-44cd-b30c-40314ef2cc33",
   "metadata": {},
   "outputs": [
    {
     "name": "stdout",
     "output_type": "stream",
     "text": [
      "0 Lorem\n",
      "3 sit\n",
      "6 adipiscing\n",
      "9 feugiat\n",
      "12 leo\n",
      "15 Duis\n",
      "18 volutpat\n",
      "21 eu,\n",
      "24 amet\n",
      "27 hac\n"
     ]
    }
   ],
   "source": [
    "# Beispiel 2 mit modulo\n",
    "\n",
    "lorem_ipsum = [\n",
    "    'Lorem', 'ipsum', 'dolor', 'sit', 'amet,', \n",
    "    'consectetur', 'adipiscing', 'elit.', 'Nam', \n",
    "    'feugiat', 'tellus', 'et', 'leo', 'hendrerit', \n",
    "    'aliquet.', 'Duis', 'augue', 'nisl,', 'volutpat', \n",
    "    'volutpat', 'vehicula', 'eu,', 'suscipit', 'sit', \n",
    "    'amet', 'ex.', 'In', 'hac', 'habitasse', 'platea.'\n",
    "]\n",
    "\n",
    "for i, wort in enumerate(lorem_ipsum):\n",
    "    if i % 3 == 0:\n",
    "        print(i, wort)"
   ]
  },
  {
   "cell_type": "code",
   "execution_count": 22,
   "id": "568da88a-f726-4de7-ac53-80707f9a6b4e",
   "metadata": {},
   "outputs": [
    {
     "name": "stdout",
     "output_type": "stream",
     "text": [
      "0 Lorem\n",
      "3 sit\n",
      "6 adipiscing\n",
      "9 feugiat\n",
      "12 leo\n",
      "15 Duis\n",
      "18 volutpat\n",
      "21 eu,\n",
      "24 amet\n",
      "27 hac\n"
     ]
    }
   ],
   "source": [
    "for i, wort in enumerate(lorem_ipsum):\n",
    "    if i % 3 == 0:\n",
    "        print(i, wort)"
   ]
  },
  {
   "cell_type": "code",
   "execution_count": null,
   "id": "830c7b4a-6fcf-4ca5-80b4-c8f8cb38198f",
   "metadata": {},
   "outputs": [],
   "source": []
  }
 ],
 "metadata": {
  "kernelspec": {
   "display_name": "Python 3 (ipykernel)",
   "language": "python",
   "name": "python3"
  },
  "language_info": {
   "codemirror_mode": {
    "name": "ipython",
    "version": 3
   },
   "file_extension": ".py",
   "mimetype": "text/x-python",
   "name": "python",
   "nbconvert_exporter": "python",
   "pygments_lexer": "ipython3",
   "version": "3.9.13"
  }
 },
 "nbformat": 4,
 "nbformat_minor": 5
}
