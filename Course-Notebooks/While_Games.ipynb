{
 "cells": [
  {
   "cell_type": "markdown",
   "id": "56c05385-de85-478b-a68b-62929ec9e24c",
   "metadata": {},
   "source": [
    "## While-Loop"
   ]
  },
  {
   "cell_type": "code",
   "execution_count": null,
   "id": "d9c64107-4ce2-4e13-ad2f-ae94762b7376",
   "metadata": {},
   "outputs": [],
   "source": [
    "for x in range(10):\n",
    "    print(x)"
   ]
  },
  {
   "cell_type": "code",
   "execution_count": null,
   "id": "c9666e9c-5940-48f4-aa96-e155664a5942",
   "metadata": {},
   "outputs": [],
   "source": [
    "schnuff = [1,2,3]"
   ]
  },
  {
   "cell_type": "code",
   "execution_count": null,
   "id": "80420c9d-c08e-4302-80bc-f1a812cd06a6",
   "metadata": {},
   "outputs": [],
   "source": [
    "for x in schnuff:\n",
    "    print(x)"
   ]
  },
  {
   "cell_type": "code",
   "execution_count": null,
   "id": "a3dcb510-2bcd-4e5a-9a58-008669f107bd",
   "metadata": {},
   "outputs": [],
   "source": [
    "i = 1\n",
    "while i <= 6:\n",
    "  print(i)\n",
    "  i += 1"
   ]
  },
  {
   "cell_type": "code",
   "execution_count": null,
   "id": "adf7e108-f61f-4ac9-afd4-db95f75126ea",
   "metadata": {},
   "outputs": [],
   "source": [
    "i = 1\n",
    "while i <= 6:\n",
    "    print(i)\n",
    "    if i == 3:\n",
    "        break\n",
    "    i += 1\n",
    "\n",
    "print(\"moin\")"
   ]
  },
  {
   "cell_type": "code",
   "execution_count": null,
   "id": "2168ebee-069d-452b-871b-2f98ab8feedc",
   "metadata": {},
   "outputs": [],
   "source": [
    "from random import *\n",
    "\n",
    "x = randint(1, 10) "
   ]
  },
  {
   "cell_type": "code",
   "execution_count": null,
   "id": "c2c8fcb3-48e4-49c5-b1d2-8c6860df86c6",
   "metadata": {},
   "outputs": [],
   "source": [
    "print(x)"
   ]
  },
  {
   "cell_type": "markdown",
   "id": "0ad43df9-357e-4375-9ab0-3e86c82c6416",
   "metadata": {},
   "source": [
    "## Ratespiel"
   ]
  },
  {
   "cell_type": "code",
   "execution_count": null,
   "id": "f03bd39e-f2ac-41cc-85c4-42ae2e52909f",
   "metadata": {},
   "outputs": [],
   "source": [
    "while True:\n",
    "    tip = int(input(\"Rate meine Zahl: \"))\n",
    "    \n",
    "    if tip > x:\n",
    "        print(\"meine zahl ist kleiner...\")\n",
    "    elif tip == x:\n",
    "        print(\"Das ist meine Zahl\")\n",
    "        break\n",
    "    else: \n",
    "        print(\"Meine Zahl ist größer...\")\n",
    "    "
   ]
  },
  {
   "cell_type": "markdown",
   "id": "b09ba874-3070-4756-9a92-16b93f17f51e",
   "metadata": {},
   "source": [
    "## KC-Member-Pointer"
   ]
  },
  {
   "cell_type": "code",
   "execution_count": 6,
   "id": "93d51101-6fa0-4091-8a7d-34485bf16345",
   "metadata": {},
   "outputs": [],
   "source": [
    "import random"
   ]
  },
  {
   "cell_type": "code",
   "execution_count": 7,
   "id": "fbc0d020-c161-4f2e-8d31-7f28dc9d99d6",
   "metadata": {},
   "outputs": [],
   "source": [
    "# initialisiere eine Liste mit allen Team-Members\n",
    "def getFullMemberList():\n",
    "    return [\"Pavel\", \"Sandra\", \"Svetlana\", \"Naqeeb\", \n",
    "           \"Benni\", \"Julia\", \"Najmeh\", \"Tobias\", \"Danny\", \"Muhammad\"]"
   ]
  },
  {
   "cell_type": "code",
   "execution_count": 8,
   "id": "1024553e-919a-4933-ba6d-63f71b43a6f2",
   "metadata": {},
   "outputs": [],
   "source": [
    "def getRandomMember(memberList):\n",
    "    # zufällige Auswahl aus der übergebenen Liste\n",
    "    randomName = random.choice(memberList)\n",
    "    return randomName"
   ]
  },
  {
   "cell_type": "code",
   "execution_count": 9,
   "id": "b2d55851-11ff-49f7-b0cc-c54e7bd86bd7",
   "metadata": {},
   "outputs": [],
   "source": [
    "def main():\n",
    "    memberListe = getFullMemberList()\n",
    "    \n",
    "    while len(memberListe) > 0:\n",
    "        randomName = getRandomMember(memberListe)\n",
    "        memberListe.remove(randomName)\n",
    "        print(randomName)\n",
    "        yesOrNo = input(\"Nochmal? ... \")\n",
    "        if yesOrNo != \"y\":\n",
    "            break\n",
    "    "
   ]
  },
  {
   "cell_type": "code",
   "execution_count": 10,
   "id": "edc39a6e-b07a-43b8-8a02-73234b4c16b8",
   "metadata": {},
   "outputs": [
    {
     "name": "stdout",
     "output_type": "stream",
     "text": [
      "Tobias\n",
      "Benni\n",
      "Julia\n",
      "Sandra\n",
      "Svetlana\n",
      "Naqeeb\n",
      "Najmeh\n",
      "Pavel\n"
     ]
    }
   ],
   "source": [
    "main()"
   ]
  },
  {
   "cell_type": "code",
   "execution_count": null,
   "id": "c33278ec-f3a9-400c-8a63-daca472f4c7a",
   "metadata": {},
   "outputs": [],
   "source": []
  }
 ],
 "metadata": {
  "kernelspec": {
   "display_name": "Python 3 (ipykernel)",
   "language": "python",
   "name": "python3"
  },
  "language_info": {
   "codemirror_mode": {
    "name": "ipython",
    "version": 3
   },
   "file_extension": ".py",
   "mimetype": "text/x-python",
   "name": "python",
   "nbconvert_exporter": "python",
   "pygments_lexer": "ipython3",
   "version": "3.9.13"
  }
 },
 "nbformat": 4,
 "nbformat_minor": 5
}
