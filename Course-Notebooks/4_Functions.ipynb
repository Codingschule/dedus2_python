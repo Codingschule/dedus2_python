{
 "cells": [
  {
   "cell_type": "markdown",
   "id": "9d8ba383-37e5-41ba-9723-54623329e44c",
   "metadata": {},
   "source": [
    "## FUNCTIONS"
   ]
  },
  {
   "cell_type": "markdown",
   "id": "2ac3671d-5ee9-4dc0-8aef-09a61a765267",
   "metadata": {},
   "source": [
    "* Eine Funktion ist eine isolierter Code-Bereich, der etwas ausführt - der einen Job erledigt\n",
    "* Eine Funktion kann etwas zurückliefern - einen sogenannten \"Rückgabewert\" bzw. einen \"Return Value\"\n",
    "* Eine Funktion kann Parameter enthalten\n",
    "* Es gibt in Python Build-In-Functions zu benutzen und es gibt die Möglichkeit selbst Funktionen zu schreiben."
   ]
  },
  {
   "cell_type": "markdown",
   "id": "ae5d90ed-e5d3-4585-ac63-05dced4e4197",
   "metadata": {},
   "source": [
    "### Random Funktion\n",
    "Die Random Funktion liefert eine zufällige Zahl zurück. Dafür muss die entsprechende Bibliothek importiert werden."
   ]
  },
  {
   "cell_type": "code",
   "execution_count": 2,
   "id": "eea3b02b-f393-4a52-abb9-49e868d236da",
   "metadata": {},
   "outputs": [
    {
     "name": "stdout",
     "output_type": "stream",
     "text": [
      "240064\n"
     ]
    }
   ],
   "source": [
    "# Library zum importieren von Funktionalität\n",
    "from random import randrange\n",
    "\n",
    "# Beispiel für eine verschachtelte Funktion: print ist eine Funktion die als Parameter eine weitere Funktion erhält\n",
    "print(randrange(1000000))"
   ]
  },
  {
   "cell_type": "markdown",
   "id": "e63324ec-5a70-48ae-9460-03269c42ec39",
   "metadata": {},
   "source": [
    "#### Challange\n",
    "Wir brauchen für unser Lotto-Simulations-Programm eine Funktion die uns eine Liste mit zufälligen Zahlen zurück gibt. Der untensetehende Snippet hat Probleme:</br>\n",
    "* Die Zufallszahlen sind nicht \"unique\"\n",
    "* Es ist manchmal eine \"0\" dabei und nie eine 49\n",
    "---\n",
    "#### Aufgaben 1\n",
    "* Wie können wir das Problem fixen?\n",
    "* Schreibe das Snippet so um, dass es eine Funktion ist, die wir verwenden können um unse Lotto-Sim zu programmieren.\n",
    "* Die Funktion soll über einen Parameter steuerbar sein, so daß die Anzahl der Zufallszahlen variiert werden kann\n",
    "* Die zurück gelieferte Liste soll numerisch sortiert sein von klein nach groß"
   ]
  },
  {
   "cell_type": "code",
   "execution_count": 3,
   "id": "b04d794a-800c-4934-b45e-7bd1ff9f54f1",
   "metadata": {
    "slideshow": {
     "slide_type": "subslide"
    },
    "tags": []
   },
   "outputs": [
    {
     "name": "stdout",
     "output_type": "stream",
     "text": [
      "[41, 48, 14, 15, 0, 23]\n"
     ]
    }
   ],
   "source": [
    "from random import randrange\n",
    "\n",
    "randomNumArray = []\n",
    "\n",
    "while len(randomNumArray) < 6:\n",
    "    \n",
    "    randomNumArray.append(randrange(49))\n",
    "\n",
    "print(randomNumArray)"
   ]
  },
  {
   "cell_type": "code",
   "execution_count": null,
   "id": "3dc48d63-03e8-4f11-a9da-f3cf5648d6b4",
   "metadata": {},
   "outputs": [],
   "source": []
  },
  {
   "cell_type": "code",
   "execution_count": 4,
   "id": "0432fb5e-5a65-48f2-a7ec-46f06483731b",
   "metadata": {},
   "outputs": [],
   "source": [
    "from random import randrange\n",
    "\n",
    "\n",
    "def getRandomList(randcount = 6):\n",
    "\n",
    "    randomNumArray = []\n",
    "\n",
    "    while len(randomNumArray) < randcount:\n",
    "    \n",
    "        randomNum = randrange(1,50)\n",
    "            \n",
    "        if randomNum not in randomNumArray:\n",
    "                \n",
    "            randomNumArray.append(randomNum)\n",
    "            \n",
    "    randomNumArray.sort()\n",
    "    \n",
    "    return randomNumArray\n",
    "                "
   ]
  },
  {
   "cell_type": "code",
   "execution_count": 5,
   "id": "8397bbe8-4c2c-4112-be67-01821272781e",
   "metadata": {},
   "outputs": [
    {
     "name": "stdout",
     "output_type": "stream",
     "text": [
      "[2, 10, 35, 44, 45, 46]\n"
     ]
    }
   ],
   "source": [
    "print(getRandomList())"
   ]
  },
  {
   "cell_type": "markdown",
   "id": "21983b60-9d6f-449b-af61-8f07cf3f6483",
   "metadata": {},
   "source": [
    "#### Verbesserungen\n",
    "* Die Bezeichnung randomNumArray ist unglücklich. Es ist kein Array sonder eine Liste - ändere den Variablen-Namen\n",
    "* Um unsere Funktion mehr universal zu machen wäre es schön, wenn man die Range - also den Zahlenbereich per Parameter steuern könnte. Aktuell ist der Bereich (1, 50) hard-gecodet. Ändere das!"
   ]
  },
  {
   "cell_type": "code",
   "execution_count": 2,
   "id": "6e2fe10e-01b5-4643-9751-6b93f20b8ab0",
   "metadata": {},
   "outputs": [],
   "source": [
    "from random import randrange\n",
    "\n",
    "\n",
    "def getRandomList(randcount = 6, rangeFrom = 1, rangeTo = 50):\n",
    "\n",
    "    randomNumList = []\n",
    "\n",
    "    while len(randomNumList) < randcount:\n",
    "    \n",
    "        randomNum = randrange(rangeFrom, rangeTo)\n",
    "            \n",
    "        if randomNum not in randomNumList:\n",
    "                \n",
    "            randomNumList.append(randomNum)\n",
    "            \n",
    "    randomNumList.sort()\n",
    "    \n",
    "    return randomNumList"
   ]
  },
  {
   "cell_type": "code",
   "execution_count": 3,
   "id": "a1be0f42-849c-4971-8d27-5fcd583d1f01",
   "metadata": {},
   "outputs": [
    {
     "name": "stdout",
     "output_type": "stream",
     "text": [
      "[54, 55, 56, 65, 69, 76, 77, 78, 79, 99]\n"
     ]
    }
   ],
   "source": [
    "print(getRandomList(10, 50, 100))"
   ]
  },
  {
   "cell_type": "code",
   "execution_count": 4,
   "id": "9400cd61-794e-43ab-9048-98cd250e4918",
   "metadata": {},
   "outputs": [
    {
     "name": "stdout",
     "output_type": "stream",
     "text": [
      "[7, 10, 13, 19, 23, 32, 33, 37, 46, 47]\n"
     ]
    }
   ],
   "source": [
    "print(getRandomList(randcount = 10))"
   ]
  },
  {
   "cell_type": "code",
   "execution_count": 3,
   "id": "d002885d-4469-413a-bfce-040fad5f030d",
   "metadata": {},
   "outputs": [
    {
     "name": "stdout",
     "output_type": "stream",
     "text": [
      "78.53981633974483\n"
     ]
    }
   ],
   "source": [
    "# Funktion für die Berechnung eines Kreisumfangs\n",
    "\n",
    "import math\n",
    "\n",
    "def kreis_umfang(d = 10):\n",
    "    result = d * math.pi\n",
    "    return result\n",
    "\n",
    "print(kreis_umfang(25))"
   ]
  },
  {
   "cell_type": "code",
   "execution_count": null,
   "id": "b74a23b7-516d-49c9-86be-4a2059b08f4f",
   "metadata": {},
   "outputs": [],
   "source": []
  }
 ],
 "metadata": {
  "kernelspec": {
   "display_name": "Python 3 (ipykernel)",
   "language": "python",
   "name": "python3"
  },
  "language_info": {
   "codemirror_mode": {
    "name": "ipython",
    "version": 3
   },
   "file_extension": ".py",
   "mimetype": "text/x-python",
   "name": "python",
   "nbconvert_exporter": "python",
   "pygments_lexer": "ipython3",
   "version": "3.9.13"
  }
 },
 "nbformat": 4,
 "nbformat_minor": 5
}
