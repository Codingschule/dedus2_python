{
 "cells": [
  {
   "cell_type": "markdown",
   "id": "9f53f654-0c38-4eaf-9cdc-b654f0149c39",
   "metadata": {},
   "source": [
    "## ExpertChallange_1"
   ]
  },
  {
   "cell_type": "markdown",
   "id": "4345505e-d045-4f32-b0b7-e0970de2b2e2",
   "metadata": {},
   "source": [
    "> Write a function that converts Bitcoin to local currency (EUR, GBP, USD). You will receive the current price via an API call.\n",
    "> Here's a crash-course about that API-Stuff that may help you along: https://www.dataquest.io/blog/python-api-tutorial/"
   ]
  },
  {
   "cell_type": "code",
   "execution_count": 61,
   "id": "649c28a8",
   "metadata": {},
   "outputs": [],
   "source": [
    "# import a library for api-requests\n",
    "import requests\n",
    "# import a library for \"pretty print\" json (not nessesary)\n",
    "from pprint import pprint"
   ]
  },
  {
   "cell_type": "code",
   "execution_count": 49,
   "id": "b9ea7fb9-ea67-44e6-94eb-efd7d21b1c74",
   "metadata": {},
   "outputs": [],
   "source": [
    "# execute the request and store the result-object in a variable\n",
    "response = requests.get(\"https://api.coindesk.com/v1/bpi/currentprice.json\")"
   ]
  },
  {
   "cell_type": "code",
   "execution_count": 50,
   "id": "5ecd6542-fa47-4555-ba8a-794a152d0057",
   "metadata": {},
   "outputs": [
    {
     "name": "stdout",
     "output_type": "stream",
     "text": [
      "200\n"
     ]
    }
   ],
   "source": [
    "# get the http-status-code for catching and logging errors\n",
    "print(response.status_code)"
   ]
  },
  {
   "cell_type": "code",
   "execution_count": 51,
   "id": "433bcd96-1eeb-4385-8a68-1881ee758ec0",
   "metadata": {},
   "outputs": [
    {
     "name": "stdout",
     "output_type": "stream",
     "text": [
      "{'bpi': {'EUR': {'code': 'EUR',\n",
      "                 'description': 'Euro',\n",
      "                 'rate': '16,129.6421',\n",
      "                 'rate_float': 16129.6421,\n",
      "                 'symbol': '&euro;'},\n",
      "         'GBP': {'code': 'GBP',\n",
      "                 'description': 'British Pound Sterling',\n",
      "                 'rate': '13,835.5030',\n",
      "                 'rate_float': 13835.503,\n",
      "                 'symbol': '&pound;'},\n",
      "         'USD': {'code': 'USD',\n",
      "                 'description': 'United States Dollar',\n",
      "                 'rate': '16,557.7256',\n",
      "                 'rate_float': 16557.7256,\n",
      "                 'symbol': '&#36;'}},\n",
      " 'chartName': 'Bitcoin',\n",
      " 'disclaimer': 'This data was produced from the CoinDesk Bitcoin Price Index '\n",
      "               '(USD). Non-USD currency data converted using hourly conversion '\n",
      "               'rate from openexchangerates.org',\n",
      " 'time': {'updated': 'Nov 17, 2022 07:34:00 UTC',\n",
      "          'updatedISO': '2022-11-17T07:34:00+00:00',\n",
      "          'updateduk': 'Nov 17, 2022 at 07:34 GMT'}}\n"
     ]
    }
   ],
   "source": [
    "# print the json\n",
    "\n",
    "pprint(response.json())"
   ]
  },
  {
   "cell_type": "code",
   "execution_count": 52,
   "id": "50866346-274f-40a4-a799-bbd01fcddbb0",
   "metadata": {},
   "outputs": [],
   "source": [
    "j = response.json()"
   ]
  },
  {
   "cell_type": "code",
   "execution_count": 53,
   "id": "aca8d0fa-19a1-41a7-bfda-c3bb76de8d82",
   "metadata": {},
   "outputs": [
    {
     "data": {
      "text/plain": [
       "dict"
      ]
     },
     "execution_count": 53,
     "metadata": {},
     "output_type": "execute_result"
    }
   ],
   "source": [
    "# ist das json oder dict?\n",
    "# wir testen den typ\n",
    "type(j)"
   ]
  },
  {
   "cell_type": "code",
   "execution_count": 54,
   "id": "4935bbeb-0ac5-4b00-b0c0-5d967b480dfe",
   "metadata": {},
   "outputs": [],
   "source": [
    "# der typ ist dictionary"
   ]
  },
  {
   "cell_type": "code",
   "execution_count": 55,
   "id": "2a5ef255-e4ed-4fde-b264-f6db25e8728f",
   "metadata": {},
   "outputs": [
    {
     "data": {
      "text/plain": [
       "{'updated': 'Nov 17, 2022 07:34:00 UTC',\n",
       " 'updatedISO': '2022-11-17T07:34:00+00:00',\n",
       " 'updateduk': 'Nov 17, 2022 at 07:34 GMT'}"
      ]
     },
     "execution_count": 55,
     "metadata": {},
     "output_type": "execute_result"
    }
   ],
   "source": [
    "j.get('time')"
   ]
  },
  {
   "cell_type": "code",
   "execution_count": 56,
   "id": "95fb64fc-7d24-44e2-b3f9-e959a109b4e1",
   "metadata": {},
   "outputs": [
    {
     "data": {
      "text/plain": [
       "'Nov 17, 2022 07:34:00 UTC'"
      ]
     },
     "execution_count": 56,
     "metadata": {},
     "output_type": "execute_result"
    }
   ],
   "source": [
    "j.get('time').get('updated')"
   ]
  },
  {
   "cell_type": "code",
   "execution_count": 57,
   "id": "7e499332-2dab-4ec2-bc4a-f2bd1a59bcc4",
   "metadata": {},
   "outputs": [
    {
     "data": {
      "text/plain": [
       "{'USD': {'code': 'USD',\n",
       "  'symbol': '&#36;',\n",
       "  'rate': '16,557.7256',\n",
       "  'description': 'United States Dollar',\n",
       "  'rate_float': 16557.7256},\n",
       " 'GBP': {'code': 'GBP',\n",
       "  'symbol': '&pound;',\n",
       "  'rate': '13,835.5030',\n",
       "  'description': 'British Pound Sterling',\n",
       "  'rate_float': 13835.503},\n",
       " 'EUR': {'code': 'EUR',\n",
       "  'symbol': '&euro;',\n",
       "  'rate': '16,129.6421',\n",
       "  'description': 'Euro',\n",
       "  'rate_float': 16129.6421}}"
      ]
     },
     "execution_count": 57,
     "metadata": {},
     "output_type": "execute_result"
    }
   ],
   "source": [
    "j.get('bpi')"
   ]
  },
  {
   "cell_type": "code",
   "execution_count": 58,
   "id": "ef5c2594-8e54-4533-a7ca-0c52afe62ca9",
   "metadata": {},
   "outputs": [
    {
     "data": {
      "text/plain": [
       "{'code': 'EUR',\n",
       " 'symbol': '&euro;',\n",
       " 'rate': '16,129.6421',\n",
       " 'description': 'Euro',\n",
       " 'rate_float': 16129.6421}"
      ]
     },
     "execution_count": 58,
     "metadata": {},
     "output_type": "execute_result"
    }
   ],
   "source": [
    "j.get('bpi').get('EUR')"
   ]
  },
  {
   "cell_type": "code",
   "execution_count": 59,
   "id": "79cf2743-835d-46f3-890c-7cf6eefdd0c4",
   "metadata": {},
   "outputs": [],
   "source": [
    "umrechnungsfaktor = j['bpi']['EUR']['rate_float']"
   ]
  },
  {
   "cell_type": "code",
   "execution_count": 60,
   "id": "ac5669df-347e-4210-b4de-feec329a55a0",
   "metadata": {},
   "outputs": [
    {
     "data": {
      "text/plain": [
       "16129.6421"
      ]
     },
     "execution_count": 60,
     "metadata": {},
     "output_type": "execute_result"
    }
   ],
   "source": [
    "umrechnungsfaktor"
   ]
  },
  {
   "cell_type": "code",
   "execution_count": 1,
   "id": "07e64b61-365b-46f0-a979-90d61a6dff81",
   "metadata": {},
   "outputs": [],
   "source": [
    "import requests\n",
    "\n",
    "def getUmrechnungsFaktor(Zielwährung = \"EUR\"):\n",
    "    response = requests.get(\"https://api.coindesk.com/v1/bpi/currentprice.json\")\n",
    "    json = response.json()\n",
    "    return json['bpi'][Zielwährung]['rate_float']"
   ]
  },
  {
   "cell_type": "code",
   "execution_count": 2,
   "id": "e82146ac-be7c-4fd8-a600-f30172e3c0fc",
   "metadata": {},
   "outputs": [
    {
     "name": "stdout",
     "output_type": "stream",
     "text": [
      "15714.9377\n"
     ]
    }
   ],
   "source": [
    "print(getUmrechnungsFaktor())"
   ]
  },
  {
   "cell_type": "code",
   "execution_count": 3,
   "id": "faf8c46c-86e3-424f-a847-6089e0bdb804",
   "metadata": {},
   "outputs": [
    {
     "name": "stdout",
     "output_type": "stream",
     "text": [
      "1.5908430868294183\n"
     ]
    }
   ],
   "source": [
    "meineKohle = 25000\n",
    "meineBitcoin = meineKohle / getUmrechnungsFaktor()\n",
    "print(meineBitcoin)"
   ]
  },
  {
   "cell_type": "code",
   "execution_count": null,
   "id": "764a18ab-3f84-4b98-9b14-f44fc6464d80",
   "metadata": {},
   "outputs": [],
   "source": []
  }
 ],
 "metadata": {
  "kernelspec": {
   "display_name": "Python 3 (ipykernel)",
   "language": "python",
   "name": "python3"
  },
  "language_info": {
   "codemirror_mode": {
    "name": "ipython",
    "version": 3
   },
   "file_extension": ".py",
   "mimetype": "text/x-python",
   "name": "python",
   "nbconvert_exporter": "python",
   "pygments_lexer": "ipython3",
   "version": "3.9.13"
  }
 },
 "nbformat": 4,
 "nbformat_minor": 5
}
