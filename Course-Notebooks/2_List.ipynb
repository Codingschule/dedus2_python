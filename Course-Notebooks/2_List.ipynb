{
 "cells": [
  {
   "cell_type": "code",
   "execution_count": 47,
   "id": "550c5358-8ac3-446e-987a-d26960b7782d",
   "metadata": {},
   "outputs": [],
   "source": [
    "mylist = [\"apple\", \"banana\", \"cherry\"]"
   ]
  },
  {
   "cell_type": "code",
   "execution_count": 48,
   "id": "902b2241-428b-4ed2-86d4-fc676ba531f3",
   "metadata": {},
   "outputs": [
    {
     "name": "stdout",
     "output_type": "stream",
     "text": [
      "3\n"
     ]
    }
   ],
   "source": [
    "# die länge einer Liste\n",
    "print(len(mylist))"
   ]
  },
  {
   "cell_type": "code",
   "execution_count": 49,
   "id": "6f1e349a-3091-4da8-a78f-80159480aff1",
   "metadata": {},
   "outputs": [],
   "source": [
    "# Eintrag zu einer Liste hinzufügen:\n",
    "mylist.append(\"strawberry\")"
   ]
  },
  {
   "cell_type": "code",
   "execution_count": 50,
   "id": "d51b27ef-9d67-4ea1-b565-ec3291523df9",
   "metadata": {},
   "outputs": [
    {
     "data": {
      "text/plain": [
       "['apple', 'banana', 'cherry', 'strawberry']"
      ]
     },
     "execution_count": 50,
     "metadata": {},
     "output_type": "execute_result"
    }
   ],
   "source": [
    "mylist"
   ]
  },
  {
   "cell_type": "code",
   "execution_count": 51,
   "id": "afc85308-bf85-4001-8f05-ef57b4f78266",
   "metadata": {},
   "outputs": [],
   "source": [
    "# Liste leeren\n",
    "mylist.clear()"
   ]
  },
  {
   "cell_type": "code",
   "execution_count": 52,
   "id": "143b0e19-56e9-4b43-859c-27ccfe997774",
   "metadata": {},
   "outputs": [],
   "source": [
    "mylist = [\"apple\", \"banana\", \"cherry\"]"
   ]
  },
  {
   "cell_type": "code",
   "execution_count": 53,
   "id": "1381099c-4a9d-4482-a55b-601cfd7dc58b",
   "metadata": {},
   "outputs": [
    {
     "data": {
      "text/plain": [
       "'cherry'"
      ]
     },
     "execution_count": 53,
     "metadata": {},
     "output_type": "execute_result"
    }
   ],
   "source": [
    "# Den letzten Eintrag aus der Liste löschen und zurückgeben\n",
    "mylist.pop()"
   ]
  },
  {
   "cell_type": "code",
   "execution_count": 54,
   "id": "b3167f7a-4df5-47bb-aa16-da474844cfa1",
   "metadata": {},
   "outputs": [
    {
     "data": {
      "text/plain": [
       "['apple', 'banana']"
      ]
     },
     "execution_count": 54,
     "metadata": {},
     "output_type": "execute_result"
    }
   ],
   "source": [
    "mylist"
   ]
  },
  {
   "cell_type": "code",
   "execution_count": 55,
   "id": "a51a4ee2-0e40-44c0-8174-56e06a7c8aa3",
   "metadata": {},
   "outputs": [],
   "source": [
    "mylist = [\"Elefant\", \"Tiger\", \"Zebra\", \"Affe\", \"Löwe\"]"
   ]
  },
  {
   "cell_type": "code",
   "execution_count": 56,
   "id": "18b03349-dacb-4b53-965b-e765b8f5a068",
   "metadata": {},
   "outputs": [],
   "source": [
    "# Die Liste aufsteigend sortieren\n",
    "mylist.sort()"
   ]
  },
  {
   "cell_type": "code",
   "execution_count": 57,
   "id": "14e6d381-b8be-481f-8430-2c3abc6c0c66",
   "metadata": {},
   "outputs": [
    {
     "data": {
      "text/plain": [
       "['Affe', 'Elefant', 'Löwe', 'Tiger', 'Zebra']"
      ]
     },
     "execution_count": 57,
     "metadata": {},
     "output_type": "execute_result"
    }
   ],
   "source": [
    "mylist"
   ]
  },
  {
   "cell_type": "code",
   "execution_count": 58,
   "id": "d9696c67-11d9-4804-b283-7cf5c94e0e8d",
   "metadata": {},
   "outputs": [],
   "source": [
    "# Die Listen-Sortierung umkehren \n",
    "mylist.reverse()"
   ]
  },
  {
   "cell_type": "code",
   "execution_count": 59,
   "id": "60b6a438-07d3-4a83-9d6e-2bb90481b406",
   "metadata": {},
   "outputs": [
    {
     "data": {
      "text/plain": [
       "['Zebra', 'Tiger', 'Löwe', 'Elefant', 'Affe']"
      ]
     },
     "execution_count": 59,
     "metadata": {},
     "output_type": "execute_result"
    }
   ],
   "source": [
    "mylist"
   ]
  },
  {
   "cell_type": "code",
   "execution_count": 60,
   "id": "ccd72cde-92db-49c0-a136-f5ec77983b0c",
   "metadata": {},
   "outputs": [
    {
     "data": {
      "text/plain": [
       "['Zebra', 'Tiger', 'Löwe', 'Elefant', 'Affe']"
      ]
     },
     "execution_count": 60,
     "metadata": {},
     "output_type": "execute_result"
    }
   ],
   "source": [
    "mylist"
   ]
  },
  {
   "cell_type": "code",
   "execution_count": null,
   "id": "50593d0a-64ce-41a1-a9c5-e9647f0d6212",
   "metadata": {},
   "outputs": [],
   "source": []
  },
  {
   "cell_type": "code",
   "execution_count": 1,
   "id": "28846272-8d27-4f1e-8c02-e6fcf7e13d25",
   "metadata": {},
   "outputs": [],
   "source": [
    "li=[1,2,3]"
   ]
  },
  {
   "cell_type": "code",
   "execution_count": 2,
   "id": "ed89cec5-1db3-41d5-b4be-62a2d9086fd5",
   "metadata": {},
   "outputs": [
    {
     "data": {
      "text/plain": [
       "[1, 2, 3]"
      ]
     },
     "execution_count": 2,
     "metadata": {},
     "output_type": "execute_result"
    }
   ],
   "source": [
    "li"
   ]
  },
  {
   "cell_type": "code",
   "execution_count": 3,
   "id": "b08d90dc-7bba-48da-8a1b-2fb377d36db7",
   "metadata": {},
   "outputs": [],
   "source": [
    "li.append(7)"
   ]
  },
  {
   "cell_type": "code",
   "execution_count": 4,
   "id": "327ed151-dfed-48bb-9e8b-a47e7f8e2c2f",
   "metadata": {},
   "outputs": [
    {
     "data": {
      "text/plain": [
       "[1, 2, 3, 7]"
      ]
     },
     "execution_count": 4,
     "metadata": {},
     "output_type": "execute_result"
    }
   ],
   "source": [
    "li"
   ]
  },
  {
   "cell_type": "code",
   "execution_count": 5,
   "id": "640684eb-74f5-467e-b16c-fdaf8147baab",
   "metadata": {},
   "outputs": [
    {
     "data": {
      "text/plain": [
       "7"
      ]
     },
     "execution_count": 5,
     "metadata": {},
     "output_type": "execute_result"
    }
   ],
   "source": [
    "li.pop()"
   ]
  },
  {
   "cell_type": "code",
   "execution_count": 6,
   "id": "4e96d608-482c-4cb9-b1eb-a25b9978cb9b",
   "metadata": {},
   "outputs": [
    {
     "data": {
      "text/plain": [
       "[1, 2, 3]"
      ]
     },
     "execution_count": 6,
     "metadata": {},
     "output_type": "execute_result"
    }
   ],
   "source": [
    "li\n"
   ]
  },
  {
   "cell_type": "code",
   "execution_count": null,
   "id": "05b864eb-9814-4fd5-bb91-9bd4a237d007",
   "metadata": {},
   "outputs": [],
   "source": [
    "li."
   ]
  }
 ],
 "metadata": {
  "kernelspec": {
   "display_name": "Python 3 (ipykernel)",
   "language": "python",
   "name": "python3"
  },
  "language_info": {
   "codemirror_mode": {
    "name": "ipython",
    "version": 3
   },
   "file_extension": ".py",
   "mimetype": "text/x-python",
   "name": "python",
   "nbconvert_exporter": "python",
   "pygments_lexer": "ipython3",
   "version": "3.9.13"
  }
 },
 "nbformat": 4,
 "nbformat_minor": 5
}
