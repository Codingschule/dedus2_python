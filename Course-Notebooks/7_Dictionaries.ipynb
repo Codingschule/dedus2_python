{
 "cells": [
  {
   "cell_type": "code",
   "execution_count": 1,
   "id": "4ae2dc1e-78e4-446a-8588-325834bd6fd7",
   "metadata": {},
   "outputs": [
    {
     "data": {
      "text/plain": [
       "list"
      ]
     },
     "execution_count": 1,
     "metadata": {},
     "output_type": "execute_result"
    }
   ],
   "source": [
    "meineListe = [1,2,3,4]\n",
    "type(meineListe)"
   ]
  },
  {
   "cell_type": "code",
   "execution_count": 23,
   "id": "3835cc44-c70c-4a1e-b200-e455cce30363",
   "metadata": {},
   "outputs": [
    {
     "data": {
      "text/plain": [
       "dict"
      ]
     },
     "execution_count": 23,
     "metadata": {},
     "output_type": "execute_result"
    }
   ],
   "source": [
    "meinDictionary = {\n",
    "    \"Name\":\"Olaf\",\n",
    "    \"Beruf\":\"Software-Schnuffi\",\n",
    "    \"Alter\": 57,\n",
    "    \"Hobbies\": [\"Gitarre\",\"Lesen\",\"Motorrad\"],\n",
    "    \"Familie\": {\n",
    "        \"Vater\": \"Hans\",\n",
    "        \"Mutter\":\"Renate\",\n",
    "        \"Geschwister\": [\n",
    "            \"Nicole\",\n",
    "            \"Bianca\"\n",
    "        ]\n",
    "    },\n",
    "    \"Hoch-Motiviert\": True,\n",
    "    \"Groesse\": 179.35\n",
    "}\n",
    "type(meinDictionary)"
   ]
  },
  {
   "cell_type": "code",
   "execution_count": 24,
   "id": "e2de191b-4fd5-416f-b81b-9bf634bb29c6",
   "metadata": {},
   "outputs": [
    {
     "data": {
      "text/plain": [
       "{'Name': 'Olaf',\n",
       " 'Beruf': 'Software-Schnuffi',\n",
       " 'Alter': 57,\n",
       " 'Hobbies': ['Gitarre', 'Lesen', 'Motorrad'],\n",
       " 'Familie': {'Vater': 'Hans',\n",
       "  'Mutter': 'Renate',\n",
       "  'Geschwister': ['Nicole', 'Bianca']},\n",
       " 'Hoch-Motiviert': True,\n",
       " 'Groesse': 179.35}"
      ]
     },
     "execution_count": 24,
     "metadata": {},
     "output_type": "execute_result"
    }
   ],
   "source": [
    "meinDictionary"
   ]
  },
  {
   "cell_type": "markdown",
   "id": "e3288c3d-fd69-4062-b76f-8b5db49374bd",
   "metadata": {},
   "source": [
    "### Wie komme ich an die Liste mit meinen Geschwistern?"
   ]
  },
  {
   "cell_type": "markdown",
   "id": "4fc11e7b-e37b-47c2-830d-8c725d45abc3",
   "metadata": {},
   "source": [
    "### Wie kann ich alle Schlüssel ausgeben?"
   ]
  },
  {
   "cell_type": "code",
   "execution_count": 26,
   "id": "b3ff0a0b-1b82-4d8d-8a7b-fec64f27b390",
   "metadata": {},
   "outputs": [
    {
     "name": "stdout",
     "output_type": "stream",
     "text": [
      "7\n"
     ]
    }
   ],
   "source": [
    "# Warum ist die \"länge\" des Dictionarys 7 ?\n",
    "print(len(meinDictionary))"
   ]
  },
  {
   "cell_type": "code",
   "execution_count": 27,
   "id": "3d765a4f-86b7-4a01-a0d8-2091912a7479",
   "metadata": {},
   "outputs": [
    {
     "data": {
      "text/plain": [
       "dict"
      ]
     },
     "execution_count": 27,
     "metadata": {},
     "output_type": "execute_result"
    }
   ],
   "source": [
    "# Den Typ ausgeben\n",
    "type(meinDictionary)"
   ]
  },
  {
   "cell_type": "markdown",
   "id": "96b2eebf-ab63-45cb-8dc8-6ce7a456db34",
   "metadata": {},
   "source": [
    "# Access Items"
   ]
  },
  {
   "cell_type": "code",
   "execution_count": 28,
   "id": "b81741b7-5e65-4862-b227-547dac37b755",
   "metadata": {},
   "outputs": [
    {
     "name": "stdout",
     "output_type": "stream",
     "text": [
      "Olaf\n"
     ]
    }
   ],
   "source": [
    "# Den Value eines Key ausgeben Option 1\n",
    "print(meinDictionary[\"Name\"])"
   ]
  },
  {
   "cell_type": "code",
   "execution_count": 29,
   "id": "8ebe43f8-2074-4aea-ab50-40e9796a4980",
   "metadata": {},
   "outputs": [
    {
     "name": "stdout",
     "output_type": "stream",
     "text": [
      "Olaf\n"
     ]
    }
   ],
   "source": [
    "# Den Value eines Key ausgeben Option 2\n",
    "print(meinDictionary.get(\"Name\"))"
   ]
  },
  {
   "cell_type": "code",
   "execution_count": 30,
   "id": "8a20ae5c-ff41-4232-84da-5bf7fdd78323",
   "metadata": {},
   "outputs": [
    {
     "name": "stdout",
     "output_type": "stream",
     "text": [
      "dict_keys(['Name', 'Beruf', 'Alter', 'Hobbies', 'Familie', 'Hoch-Motiviert', 'Groesse'])\n"
     ]
    }
   ],
   "source": [
    "# Alle Keys ausgeben\n",
    "print(meinDictionary.keys())"
   ]
  },
  {
   "cell_type": "code",
   "execution_count": 31,
   "id": "a0282cae-4277-4e81-8033-e03bd64e6c78",
   "metadata": {},
   "outputs": [
    {
     "name": "stdout",
     "output_type": "stream",
     "text": [
      "dict_values(['Olaf', 'Software-Schnuffi', 57, ['Gitarre', 'Lesen', 'Motorrad'], {'Vater': 'Hans', 'Mutter': 'Renate', 'Geschwister': ['Nicole', 'Bianca']}, True, 179.35])\n"
     ]
    }
   ],
   "source": [
    "# Alle Values ausgeben\n",
    "print(meinDictionary.values())"
   ]
  },
  {
   "cell_type": "markdown",
   "id": "7e9126ed-281c-4159-9e0f-793685241a29",
   "metadata": {},
   "source": [
    "# Change Items"
   ]
  },
  {
   "cell_type": "code",
   "execution_count": 36,
   "id": "94b91a80-e078-4762-bf79-f873c83e7461",
   "metadata": {},
   "outputs": [
    {
     "name": "stdout",
     "output_type": "stream",
     "text": [
      "{'Name': 'Olaf', 'Beruf': 'Software-Schnuffi', 'Alter': 65, 'Hobbies': ['Gitarre', 'Lesen', 'Motorrad'], 'Familie': {'Vater': 'Hans', 'Mutter': 'Renate', 'Geschwister': ['Nicole', 'Bianca']}, 'Hoch-Motiviert': True, 'Groesse': 179.35}\n"
     ]
    }
   ],
   "source": [
    "# Das \"Alter\" ändern Option 1\n",
    "meinDictionary[\"Alter\"] = 65\n",
    "# Dict ausgeben (siehe Alter geändert)\n",
    "print(meinDictionary)"
   ]
  },
  {
   "cell_type": "code",
   "execution_count": 35,
   "id": "366ad96c-cdda-4501-9787-9bbc00353993",
   "metadata": {},
   "outputs": [
    {
     "name": "stdout",
     "output_type": "stream",
     "text": [
      "{'Name': 'Olaf', 'Beruf': 'Software-Schnuffi', 'Alter': 45, 'Hobbies': ['Gitarre', 'Lesen', 'Motorrad'], 'Familie': {'Vater': 'Hans', 'Mutter': 'Renate', 'Geschwister': ['Nicole', 'Bianca']}, 'Hoch-Motiviert': True, 'Groesse': 179.35}\n"
     ]
    }
   ],
   "source": [
    "# Das \"Alter\" ändern Option 2\n",
    "meinDictionary.update({\"Alter\":45})\n",
    "# Dict ausgeben (siehe Alter geändert)\n",
    "print(meinDictionary)"
   ]
  },
  {
   "cell_type": "markdown",
   "id": "2006a014-e7ca-4010-9f8d-9b1cb7064aba",
   "metadata": {},
   "source": [
    "# Adding Items"
   ]
  },
  {
   "cell_type": "code",
   "execution_count": 38,
   "id": "db9876c4-a7cf-4151-a1c0-62735bedbf0d",
   "metadata": {},
   "outputs": [
    {
     "name": "stdout",
     "output_type": "stream",
     "text": [
      "{'Name': 'Olaf', 'Beruf': 'Software-Schnuffi', 'Alter': 65, 'Hobbies': ['Gitarre', 'Lesen', 'Motorrad'], 'Familie': {'Vater': 'Hans', 'Mutter': 'Renate', 'Geschwister': ['Nicole', 'Bianca']}, 'Hoch-Motiviert': True, 'Groesse': 179.35, 'Haarfarbe': 'grey'}\n"
     ]
    }
   ],
   "source": [
    "# Haarfarbe zum Dictionary hinzufügen Option 1\n",
    "meinDictionary['Haarfarbe'] = \"grey\"\n",
    "# Dict ausgeben (siehe Harrfarbe...)\n",
    "print(meinDictionary)"
   ]
  },
  {
   "cell_type": "code",
   "execution_count": 40,
   "id": "c848c3b1-55a0-45c7-b93b-8df1d6a21693",
   "metadata": {},
   "outputs": [
    {
     "name": "stdout",
     "output_type": "stream",
     "text": [
      "{'Name': 'Olaf', 'Beruf': 'Software-Schnuffi', 'Alter': 65, 'Hobbies': ['Gitarre', 'Lesen', 'Motorrad'], 'Familie': {'Vater': 'Hans', 'Mutter': 'Renate', 'Geschwister': ['Nicole', 'Bianca']}, 'Hoch-Motiviert': True, 'Groesse': 179.35, 'Haarfarbe': 'grey', 'Haarfarbe-früher': 'blond'}\n"
     ]
    }
   ],
   "source": [
    "# Haarfarbe zum Dictionary hinzufügen Option 2\n",
    "meinDictionary.update({\"Haarfarbe-früher\":\"blond\"})\n",
    "# Dict ausgeben\n",
    "print(meinDictionary)"
   ]
  },
  {
   "cell_type": "markdown",
   "id": "bca3808a-f02f-40c0-bb2f-7df4459adcf9",
   "metadata": {},
   "source": [
    "# Remove Items"
   ]
  },
  {
   "cell_type": "code",
   "execution_count": 57,
   "id": "3aa4e00c-f331-49eb-bd5b-695d08619c43",
   "metadata": {},
   "outputs": [
    {
     "name": "stdout",
     "output_type": "stream",
     "text": [
      "{'Name': 'Olaf', 'Beruf': 'Software-Schnuffi', 'Alter': 65, 'Hobbies': ['Gitarre', 'Lesen', 'Motorrad'], 'Familie': {'Vater': 'Hans', 'Mutter': 'Renate', 'Geschwister': ['Nicole', 'Bianca']}, 'Hoch-Motiviert': True, 'Groesse': 179.35}\n"
     ]
    }
   ],
   "source": [
    "# wir kopieren das vorhandene Dictionary\n",
    "tempDict = meinDictionary\n",
    "# überprüfen durch ausgeben:\n",
    "print(tempDict)"
   ]
  },
  {
   "cell_type": "code",
   "execution_count": 62,
   "id": "3530cd51-0091-4d13-bbe6-baf5c3c91f75",
   "metadata": {},
   "outputs": [
    {
     "name": "stdout",
     "output_type": "stream",
     "text": [
      "{'brand': 'Ford', 'year': 1964}\n"
     ]
    }
   ],
   "source": [
    "thisdict = {\n",
    "  \"brand\": \"Ford\",\n",
    "  \"model\": \"Mustang\",\n",
    "  \"year\": 1964\n",
    "}\n",
    "thisdict.pop(\"model\")\n",
    "print(thisdict)"
   ]
  },
  {
   "cell_type": "code",
   "execution_count": 63,
   "id": "3032c74f-6897-4728-bbe6-3e364aaf364a",
   "metadata": {},
   "outputs": [
    {
     "name": "stdout",
     "output_type": "stream",
     "text": [
      "{'brand': 'Ford', 'model': 'Mustang'}\n"
     ]
    }
   ],
   "source": [
    "thisdict = {\n",
    "  \"brand\": \"Ford\",\n",
    "  \"model\": \"Mustang\",\n",
    "  \"year\": 1964\n",
    "}\n",
    "thisdict.popitem()\n",
    "print(thisdict)"
   ]
  },
  {
   "cell_type": "code",
   "execution_count": null,
   "id": "e38016a3-2a75-4e56-aa1f-839760761bd2",
   "metadata": {},
   "outputs": [],
   "source": []
  }
 ],
 "metadata": {
  "kernelspec": {
   "display_name": "Python 3 (ipykernel)",
   "language": "python",
   "name": "python3"
  },
  "language_info": {
   "codemirror_mode": {
    "name": "ipython",
    "version": 3
   },
   "file_extension": ".py",
   "mimetype": "text/x-python",
   "name": "python",
   "nbconvert_exporter": "python",
   "pygments_lexer": "ipython3",
   "version": "3.9.13"
  }
 },
 "nbformat": 4,
 "nbformat_minor": 5
}
