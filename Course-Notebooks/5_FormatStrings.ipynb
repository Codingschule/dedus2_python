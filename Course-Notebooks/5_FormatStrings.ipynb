{
 "cells": [
  {
   "cell_type": "markdown",
   "id": "f22a6170-56b7-4de4-b086-cc5d4fb68121",
   "metadata": {},
   "source": [
    "## Format-Strings"
   ]
  },
  {
   "cell_type": "markdown",
   "id": "8ecd6d56-0cf1-44df-97c6-81e9bfb05399",
   "metadata": {},
   "source": [
    "Es ist schwierig einen Text auszugeben indem sich unterschiedliche Datentypen befinden.\n",
    "Die Kombination aus String und Ineger könnte so aussehen:\n"
   ]
  },
  {
   "cell_type": "code",
   "execution_count": 17,
   "id": "87a9573c-39ca-41b0-9b05-a06a98d42992",
   "metadata": {},
   "outputs": [
    {
     "name": "stdout",
     "output_type": "stream",
     "text": [
      "name ist age Jahre alt\n"
     ]
    }
   ],
   "source": [
    "name = \"Frodo\"\n",
    "age = \"74\"\n",
    "\n",
    "# Wie kann man das ausdrücken? Wie kann man Variablen in einen String einbetten?\n",
    "# Wie können wir für age und name die Werte aus den Variablen einsetzen?\n",
    "print(\"name ist age Jahre alt\") "
   ]
  },
  {
   "cell_type": "markdown",
   "id": "339d193e-4c75-4560-ac63-69f0f19479da",
   "metadata": {},
   "source": [
    "### Option 1"
   ]
  },
  {
   "cell_type": "code",
   "execution_count": 18,
   "id": "983e252b-9eea-4004-a093-535cc7b93f1b",
   "metadata": {},
   "outputs": [
    {
     "name": "stdout",
     "output_type": "stream",
     "text": [
      "Hallo, Frodo\n"
     ]
    }
   ],
   "source": [
    "name = \"Frodo\"\n",
    "print (\"Hallo, %s\" % name)\n",
    "# hier ist das %-Zeichen KEIN Modulo-Operator sondern eine String-Platzhalter"
   ]
  },
  {
   "cell_type": "code",
   "execution_count": 2,
   "id": "88a56dfe-275f-461c-a1e3-fc36b7ef9ebc",
   "metadata": {},
   "outputs": [
    {
     "name": "stdout",
     "output_type": "stream",
     "text": [
      "Hallo, Frodo. You are 74\n"
     ]
    }
   ],
   "source": [
    "name = \"Frodo\"\n",
    "age = 74\n",
    "print(\"Hallo, %s. You are %s\" % (name, age))"
   ]
  },
  {
   "cell_type": "markdown",
   "id": "c5a547d6-2768-4f50-bb81-2b1b3d5f1512",
   "metadata": {
    "jp-MarkdownHeadingCollapsed": true,
    "tags": []
   },
   "source": [
    "### Option 2"
   ]
  },
  {
   "cell_type": "code",
   "execution_count": 3,
   "id": "feb32be6-60b3-4b2b-ac00-684733a48518",
   "metadata": {},
   "outputs": [
    {
     "name": "stdout",
     "output_type": "stream",
     "text": [
      "Hello, Frodo. You are 74.\n"
     ]
    }
   ],
   "source": [
    "print(\"Hello, {}. You are {}.\".format(name, age))"
   ]
  },
  {
   "cell_type": "markdown",
   "id": "e081f018-196d-4f5f-b885-79180eef8e9d",
   "metadata": {},
   "source": [
    "### Option 3 - how cool kids do it ;-)"
   ]
  },
  {
   "cell_type": "code",
   "execution_count": 32,
   "id": "e2ddb577-37b7-4554-b5ad-aec86ef38b39",
   "metadata": {},
   "outputs": [
    {
     "name": "stdout",
     "output_type": "stream",
     "text": [
      "Hello, Frodo. You are 74.\n"
     ]
    }
   ],
   "source": [
    "print( f\"Hello, {name}. You are {age}.\" )"
   ]
  },
  {
   "cell_type": "code",
   "execution_count": 29,
   "id": "8a1402d5-b9fe-4fc3-8bae-60633b53281c",
   "metadata": {},
   "outputs": [],
   "source": [
    "s = \"Python\\nist\\tcool\""
   ]
  },
  {
   "cell_type": "code",
   "execution_count": 30,
   "id": "8fcb4265-8447-4fd2-9bd8-774369b9b094",
   "metadata": {},
   "outputs": [
    {
     "name": "stdout",
     "output_type": "stream",
     "text": [
      "Python\n",
      "ist\tcool\n"
     ]
    }
   ],
   "source": [
    "print(s)"
   ]
  },
  {
   "cell_type": "markdown",
   "id": "a5d3946c-0587-4bb2-a5cd-b399e7bfbb1b",
   "metadata": {},
   "source": [
    "### Format-String für das 1x1-Programm "
   ]
  },
  {
   "cell_type": "code",
   "execution_count": 14,
   "id": "a2dcbcd9-3850-41c0-8c41-0dac5aac0bd2",
   "metadata": {},
   "outputs": [
    {
     "name": "stdout",
     "output_type": "stream",
     "text": [
      "1*1=1\t1*2=2\t1*3=3\t1*4=4\t1*5=5\t1*6=6\t1*7=7\t1*8=8\t1*9=9\t1*10=10\t\n",
      "2*1=2\t2*2=4\t2*3=6\t2*4=8\t2*5=10\t2*6=12\t2*7=14\t2*8=16\t2*9=18\t2*10=20\t\n",
      "3*1=3\t3*2=6\t3*3=9\t3*4=12\t3*5=15\t3*6=18\t3*7=21\t3*8=24\t3*9=27\t3*10=30\t\n",
      "4*1=4\t4*2=8\t4*3=12\t4*4=16\t4*5=20\t4*6=24\t4*7=28\t4*8=32\t4*9=36\t4*10=40\t\n",
      "5*1=5\t5*2=10\t5*3=15\t5*4=20\t5*5=25\t5*6=30\t5*7=35\t5*8=40\t5*9=45\t5*10=50\t\n",
      "6*1=6\t6*2=12\t6*3=18\t6*4=24\t6*5=30\t6*6=36\t6*7=42\t6*8=48\t6*9=54\t6*10=60\t\n",
      "7*1=7\t7*2=14\t7*3=21\t7*4=28\t7*5=35\t7*6=42\t7*7=49\t7*8=56\t7*9=63\t7*10=70\t\n",
      "8*1=8\t8*2=16\t8*3=24\t8*4=32\t8*5=40\t8*6=48\t8*7=56\t8*8=64\t8*9=72\t8*10=80\t\n",
      "9*1=9\t9*2=18\t9*3=27\t9*4=36\t9*5=45\t9*6=54\t9*7=63\t9*8=72\t9*9=81\t9*10=90\t\n",
      "10*1=10\t10*2=20\t10*3=30\t10*4=40\t10*5=50\t10*6=60\t10*7=70\t10*8=80\t10*9=90\t10*10=100\t\n"
     ]
    }
   ],
   "source": [
    "for x in range(1, 11):\n",
    "    for y in range( 1,11):\n",
    "        print(f\"{x}*{y}={x*y}\\t\", end = \"\")\n",
    "    print()"
   ]
  },
  {
   "cell_type": "code",
   "execution_count": null,
   "id": "8d6a709a-a356-4591-abcb-67c4ceaacaa7",
   "metadata": {},
   "outputs": [],
   "source": []
  }
 ],
 "metadata": {
  "kernelspec": {
   "display_name": "Python 3 (ipykernel)",
   "language": "python",
   "name": "python3"
  },
  "language_info": {
   "codemirror_mode": {
    "name": "ipython",
    "version": 3
   },
   "file_extension": ".py",
   "mimetype": "text/x-python",
   "name": "python",
   "nbconvert_exporter": "python",
   "pygments_lexer": "ipython3",
   "version": "3.9.13"
  }
 },
 "nbformat": 4,
 "nbformat_minor": 5
}
