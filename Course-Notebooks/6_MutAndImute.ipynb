{
 "cells": [
  {
   "cell_type": "markdown",
   "id": "d7506c46-22c1-4449-a11c-b6a194c80f59",
   "metadata": {},
   "source": [
    "## Mutable and Immutable"
   ]
  },
  {
   "cell_type": "code",
   "execution_count": 1,
   "id": "cc64e84d-3e46-483e-b17e-27418e670d5e",
   "metadata": {},
   "outputs": [
    {
     "name": "stdout",
     "output_type": "stream",
     "text": [
      "The id of object is 140357786657424\n"
     ]
    }
   ],
   "source": [
    "z=200\n",
    "id(z)\n",
    "print(\"The id of object is\", id(z))"
   ]
  },
  {
   "cell_type": "code",
   "execution_count": 2,
   "id": "f7a8cb1f-3b68-4ac8-803f-1a12b6ebb168",
   "metadata": {},
   "outputs": [],
   "source": [
    "z = z +1"
   ]
  },
  {
   "cell_type": "code",
   "execution_count": 3,
   "id": "d1026f0e-31fa-4d46-850a-3ed96b856d68",
   "metadata": {},
   "outputs": [
    {
     "name": "stdout",
     "output_type": "stream",
     "text": [
      "The id of object is 140357786657456\n"
     ]
    }
   ],
   "source": [
    "print(\"The id of object is\", id(z))"
   ]
  },
  {
   "cell_type": "code",
   "execution_count": 4,
   "id": "ce4b3ab2-16ce-427f-963e-9494f8172b9a",
   "metadata": {},
   "outputs": [
    {
     "name": "stdout",
     "output_type": "stream",
     "text": [
      "The id of object is 140357786657456\n"
     ]
    }
   ],
   "source": [
    "print(\"The id of object is\", id(z))"
   ]
  },
  {
   "cell_type": "code",
   "execution_count": 5,
   "id": "b713588b-d116-4047-9e36-bdb433e99c2e",
   "metadata": {},
   "outputs": [],
   "source": [
    "zList = [1,2,3]"
   ]
  },
  {
   "cell_type": "code",
   "execution_count": 7,
   "id": "f7b0d851-3b03-4624-a890-4e99195dfc57",
   "metadata": {},
   "outputs": [
    {
     "name": "stdout",
     "output_type": "stream",
     "text": [
      "140357532999040\n"
     ]
    }
   ],
   "source": [
    "print(id(zList))"
   ]
  },
  {
   "cell_type": "code",
   "execution_count": 8,
   "id": "e349e01a-a0a8-476f-99d0-0b92ef12bb8c",
   "metadata": {},
   "outputs": [],
   "source": [
    "zList[0] = 34"
   ]
  },
  {
   "cell_type": "code",
   "execution_count": 9,
   "id": "c8f48dbb-b413-4117-aa36-c16285df0c50",
   "metadata": {},
   "outputs": [
    {
     "name": "stdout",
     "output_type": "stream",
     "text": [
      "[34, 2, 3]\n"
     ]
    }
   ],
   "source": [
    "print(zList)"
   ]
  },
  {
   "cell_type": "code",
   "execution_count": 10,
   "id": "7ac222a8-1b45-4dd4-b5a3-724eafd2d8e0",
   "metadata": {},
   "outputs": [
    {
     "name": "stdout",
     "output_type": "stream",
     "text": [
      "140357532999040\n"
     ]
    }
   ],
   "source": [
    "print(id(zList))"
   ]
  },
  {
   "cell_type": "code",
   "execution_count": null,
   "id": "32694a06-ec00-49b5-9d24-d029e177f929",
   "metadata": {},
   "outputs": [],
   "source": []
  }
 ],
 "metadata": {
  "kernelspec": {
   "display_name": "Python 3 (ipykernel)",
   "language": "python",
   "name": "python3"
  },
  "language_info": {
   "codemirror_mode": {
    "name": "ipython",
    "version": 3
   },
   "file_extension": ".py",
   "mimetype": "text/x-python",
   "name": "python",
   "nbconvert_exporter": "python",
   "pygments_lexer": "ipython3",
   "version": "3.9.13"
  }
 },
 "nbformat": 4,
 "nbformat_minor": 5
}
